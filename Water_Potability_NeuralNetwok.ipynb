{
 "cells": [
  {
   "cell_type": "code",
   "execution_count": 3,
   "id": "550e8f8d-20de-4d74-99b7-9c94d3a9c511",
   "metadata": {},
   "outputs": [],
   "source": [
    "import torch\n",
    "import torch.nn as nn\n",
    "from torch.utils.data import Dataset, DataLoader\n",
    "import torch.nn.functional as F\n",
    "import pandas as pd\n",
    "import torch.nn.init as init\n",
    "import torch.optim as optim"
   ]
  },
  {
   "cell_type": "code",
   "execution_count": 4,
   "id": "5d31ad80-9ec3-48ec-8bac-273ca5371c0f",
   "metadata": {},
   "outputs": [
    {
     "data": {
      "text/plain": [
       "'\\n4. When Should You Use super().__init__()?\\nAlways in a child class that inherits from a parent class.\\nWhen using PyTorch’s Dataset, nn.Module, or other framework classes.\\nWhen extending built-in Python classes like list, dict, etc.\\n'"
      ]
     },
     "execution_count": 4,
     "metadata": {},
     "output_type": "execute_result"
    }
   ],
   "source": [
    "class WaterDataset(Dataset):\n",
    "    '''\n",
    "    Inherits from torch.utils.data.Dataset, making it compatible with PyTorch’s DataLoader.\n",
    "    This allows batch processing, shuffling, and parallel loading.\n",
    "    '''\n",
    "    def __init__(self, csv_path):\n",
    "        '''\n",
    "        Dataset might have its own internal setup, which should be initialized.\n",
    "        super().__init__() ensures that PyTorch’s dataset functionality works correctly.\n",
    "        '''\n",
    "        super().__init__()\n",
    "        df = pd.read_csv(csv_path)\n",
    "        self.data = df.to_numpy()  # Store the dataset as a NumPy array\n",
    "\n",
    "    def __len__(self):\n",
    "        return self.data.shape[0]  # Use self.data\n",
    "\n",
    "    def __getitem__(self, idx):\n",
    "        '''\n",
    "        idx: The index of the sample being retrieved.\n",
    "        features = self.data[idx, :-1]: Selects all columns except the last one (input features).\n",
    "        labels = self.data[idx, -1]: Selects only the last column (output label).\n",
    "        PyTorch requires __getitem__() to fetch individual samples for training.\n",
    "        '''\n",
    "        features = self.data[idx, :-1]  # Select all columns except the last as features\n",
    "        labels = self.data[idx, -1]  # Corrected typo: self.data, not sel.data\n",
    "        return features, labels\n",
    "\n",
    "\n",
    "'''\n",
    "4. When Should You Use super().__init__()?\n",
    "Always in a child class that inherits from a parent class.\n",
    "When using PyTorch’s Dataset, nn.Module, or other framework classes.\n",
    "When extending built-in Python classes like list, dict, etc.\n",
    "'''"
   ]
  },
  {
   "cell_type": "code",
   "execution_count": 5,
   "id": "f1b731a9-0285-4589-ac33-91d510caaeb8",
   "metadata": {},
   "outputs": [],
   "source": [
    "dataset_train = WaterDataset('/Users/subhashmedipalli/Downloads/Github Projects/Deeplearning_Project_DataSets/water_potability/water_train.csv')\n",
    "dataset_test = WaterDataset('/Users/subhashmedipalli/Downloads/Github Projects/Deeplearning_Project_DataSets/water_potability/water_test.csv')"
   ]
  },
  {
   "cell_type": "code",
   "execution_count": 6,
   "id": "77ec5b7d-9d3e-484c-9edb-47e8a6affe5b",
   "metadata": {},
   "outputs": [],
   "source": [
    "# Create DataLoader objects\n",
    "water_dataset_train = DataLoader(dataset_train, batch_size=2, shuffle=True)\n",
    "water_dataset_test = DataLoader(dataset_test, batch_size=2, shuffle=False)"
   ]
  },
  {
   "cell_type": "code",
   "execution_count": 7,
   "id": "99fbac88-e21a-49d2-8823-ddb79b4ce851",
   "metadata": {},
   "outputs": [
    {
     "name": "stdout",
     "output_type": "stream",
     "text": [
      "Features: tensor([[0.5091, 0.5675, 0.2420, 0.5805, 0.6137, 0.5307, 0.5328, 0.2094, 0.6109],\n",
      "        [0.5762, 0.3639, 0.1811, 0.5706, 0.8379, 0.5178, 0.5568, 0.5320, 0.5309]],\n",
      "       dtype=torch.float64),\n",
      "Labels: tensor([0., 0.], dtype=torch.float64)\n"
     ]
    }
   ],
   "source": [
    "features, labels = next(iter(water_dataset_train))\n",
    "print(f\"Features: {features},\\nLabels: {labels}\")"
   ]
  },
  {
   "cell_type": "code",
   "execution_count": 8,
   "id": "e7688b73-04c0-4c29-9669-19e66b3001f1",
   "metadata": {},
   "outputs": [
    {
     "name": "stdout",
     "output_type": "stream",
     "text": [
      "Features: tensor([[0.3531, 0.4133, 0.6013, 0.4559, 0.7035, 0.5886, 0.6009, 0.3463, 0.6718],\n",
      "        [0.2731, 0.5847, 0.7096, 0.5195, 0.5136, 0.3578, 0.3623, 0.6791, 0.5866]],\n",
      "       dtype=torch.float64)\n",
      "Labels: tensor([0., 0.], dtype=torch.float64)\n"
     ]
    }
   ],
   "source": [
    "# Check if everything works correctly\n",
    "for batch in water_dataset_train:\n",
    "    features, labels = batch\n",
    "    print(\"Features:\", features)\n",
    "    print(\"Labels:\", labels)\n",
    "    break  # Print only the first batch for verification"
   ]
  },
  {
   "cell_type": "code",
   "execution_count": 9,
   "id": "85ebf6a9-d80c-4746-be4b-ead3b44310cd",
   "metadata": {},
   "outputs": [],
   "source": [
    "# Defining the model\n",
    "class Net(nn.Module):\n",
    "    def __init__(self):\n",
    "        super().__init__()  # Fix (A): Call parent constructor\n",
    "\n",
    "        # Define layers\n",
    "        self.fc1 = nn.Linear(9, 16)\n",
    "        self.bn1 = nn.BatchNorm1d(16)\n",
    "        self.fc2 = nn.Linear(16, 8)\n",
    "        self.bn2 = nn.BatchNorm1d(8)\n",
    "        self.fc3 = nn.Linear(8, 1)\n",
    "\n",
    "        # Initialize weights\n",
    "        init.kaiming_uniform_(self.fc1.weight)\n",
    "        init.kaiming_uniform_(self.fc2.weight)\n",
    "        init.kaiming_uniform_(self.fc3.weight, nonlinearity='sigmoid')  \n",
    "\n",
    "    def forward(self, x):\n",
    "        x = nn.functional.elu(self.bn1(self.fc1(x)))\n",
    "        x = nn.functional.elu(self.bn2(self.fc2(x)))\n",
    "        x = torch.sigmoid(self.fc3(x))  \n",
    "        return x\n"
   ]
  },
  {
   "cell_type": "code",
   "execution_count": 10,
   "id": "9bb119cf-4ee9-4ec2-86e2-d3dcca64de64",
   "metadata": {
    "scrolled": true
   },
   "outputs": [],
   "source": [
    "# Instantiate the model\n",
    "net = Net()\n",
    "\n",
    "# Define loss function and optimizer\n",
    "criterion = nn.BCELoss()\n",
    "optimizer = optim.Adam(net.parameters(), lr=0.001)"
   ]
  },
  {
   "cell_type": "code",
   "execution_count": 11,
   "id": "a6ea5a14-1ace-469d-bed8-901e27df9427",
   "metadata": {},
   "outputs": [
    {
     "name": "stdout",
     "output_type": "stream",
     "text": [
      "Training Completed!\n"
     ]
    }
   ],
   "source": [
    "for epoch in range(1000):\n",
    "    for features, labels in water_dataset_train:\n",
    "        optimizer.zero_grad()\n",
    "        \n",
    "        # Convert features and labels to float32\n",
    "        features = features.float()\n",
    "        labels = labels.float()\n",
    "\n",
    "        output = net(features)\n",
    "        loss = criterion(output, labels.view(-1, 1))\n",
    "        \n",
    "        loss.backward()\n",
    "        optimizer.step() \n",
    "\n",
    "print('Training Completed!')\n"
   ]
  },
  {
   "cell_type": "code",
   "execution_count": 13,
   "id": "8222e020-1dd3-4523-872a-50b6d2839bea",
   "metadata": {},
   "outputs": [
    {
     "name": "stdout",
     "output_type": "stream",
     "text": [
      "Accuracy: 0.5905\n"
     ]
    }
   ],
   "source": [
    "import torch\n",
    "from torchmetrics import Accuracy\n",
    "\n",
    "# Initialize accuracy metric\n",
    "acc = Accuracy(task='binary')\n",
    "\n",
    "net.eval()\n",
    "with torch.no_grad():\n",
    "    for features, labels in water_dataset_test:\n",
    "        features = features.float()\n",
    "        labels = labels.float()\n",
    "        output = net(features)\n",
    "\n",
    "        pred = (output >= 0.5).float()  # Convert logits to binary predictions (0 or 1)\n",
    "        acc.update(pred, labels.view(-1,1))  # Accumulate accuracy\n",
    "\n",
    "# Compute final accuracy\n",
    "accuracy = acc.compute()\n",
    "print(f'Accuracy: {accuracy:.4f}')"
   ]
  },
  {
   "cell_type": "markdown",
   "id": "739819d2-5e91-4b70-8d1e-176c77204fb2",
   "metadata": {},
   "source": [
    "# Not bad for small dataset like 1500 Samples to get 60% accuracy."
   ]
  },
  {
   "cell_type": "code",
   "execution_count": null,
   "id": "b3b53bae-ba73-465e-8f73-f5e6d44783e3",
   "metadata": {},
   "outputs": [],
   "source": []
  }
 ],
 "metadata": {
  "kernelspec": {
   "display_name": "myenv",
   "language": "python",
   "name": "python3"
  },
  "language_info": {
   "codemirror_mode": {
    "name": "ipython",
    "version": 3
   },
   "file_extension": ".py",
   "mimetype": "text/x-python",
   "name": "python",
   "nbconvert_exporter": "python",
   "pygments_lexer": "ipython3",
   "version": "3.12.4"
  }
 },
 "nbformat": 4,
 "nbformat_minor": 5
}
